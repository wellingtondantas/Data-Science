{
 "cells": [
  {
   "cell_type": "markdown",
   "metadata": {},
   "source": [
    "# <font color='blue'>Manipulação da Iris em Python</font>\n"
   ]
  },
  {
   "cell_type": "markdown",
   "metadata": {},
   "source": [
    "### Esse é o primeiro passo para manipular o dataset da Iris\n",
    "E foi feito de forma simples para facilitar o entendimento\n",
    "### by Wellington Dantas"
   ]
  },
  {
   "cell_type": "code",
   "execution_count": null,
   "metadata": {},
   "outputs": [],
   "source": [
    "#Importação de pacotes\n",
    "from pandas import DataFrame\n",
    "import pandas as pd\n",
    "import numpy as np\n",
    "import random"
   ]
  },
  {
   "cell_type": "code",
   "execution_count": null,
   "metadata": {},
   "outputs": [],
   "source": [
    "#Ler um arquivo csv\n",
    "dataset = pd.read_csv('iris.csv')\n",
    "dataset"
   ]
  },
  {
   "cell_type": "code",
   "execution_count": null,
   "metadata": {},
   "outputs": [],
   "source": [
    "# Resumo do dataset\n",
    "dataset.describe()"
   ]
  },
  {
   "cell_type": "code",
   "execution_count": null,
   "metadata": {},
   "outputs": [],
   "source": [
    "#Captura as dimensões da matriz\n",
    "nl,nc = np.shape(dataset)\n",
    "nl,nc"
   ]
  },
  {
   "cell_type": "code",
   "execution_count": null,
   "metadata": {},
   "outputs": [],
   "source": [
    "#Prepara a matriz de dados do dataset carregado\n",
    "dataset = DataFrame(dataset)\n",
    "dataset = dataset.values\n",
    "dataset"
   ]
  },
  {
   "cell_type": "code",
   "execution_count": null,
   "metadata": {},
   "outputs": [],
   "source": [
    "#Forma uma nova matriz com as dimensoes do dataset\n",
    "data = np.zeros([nl,nc])\n",
    "data"
   ]
  },
  {
   "cell_type": "code",
   "execution_count": null,
   "metadata": {},
   "outputs": [],
   "source": [
    "#Envia as informações para uma matriz data\n",
    "data[:,0:4]=dataset[:,0:4]\n",
    "\n",
    "#Rótula as classes da iris em setosa:0, versicolor:1 e virginica:2\n",
    "for i,item in enumerate(dataset):\n",
    "    if item[4]=='setosa':\n",
    "        data[i,4]=0.0\n",
    "    if item[4]=='versicolor':\n",
    "        data[i,4]=1.0\n",
    "    if item[4]=='virginica':\n",
    "        data[i,4]=2.0\n",
    "data"
   ]
  },
  {
   "cell_type": "code",
   "execution_count": null,
   "metadata": {},
   "outputs": [],
   "source": [
    "#Função de normalização da matriz de dados\n",
    "normalizar = lambda m : (m-m.min())/(m.max()-m.min())"
   ]
  },
  {
   "cell_type": "code",
   "execution_count": null,
   "metadata": {},
   "outputs": [],
   "source": [
    "#Normalização dos dados\n",
    "for i in range(nc-1):\n",
    "    data[0:150,i]=normalizar(data[0:150,i])\n",
    "data"
   ]
  },
  {
   "cell_type": "code",
   "execution_count": null,
   "metadata": {},
   "outputs": [],
   "source": [
    "#Mistura os elementos do conjunto de padrões\n",
    "lista=list(range(nl))\n",
    "random.shuffle(lista)\n",
    "data=data[lista, :]\n",
    "data"
   ]
  },
  {
   "cell_type": "code",
   "execution_count": null,
   "metadata": {},
   "outputs": [],
   "source": [
    "#Separa o conjunto de padrões em: \n",
    "#Treinamento (80%)\n",
    "train_x = data[0:120,0:4]\n",
    "train_y = data[0:120, 4]\n",
    "#Teste (20%)\n",
    "test_x = data[120:150,0:4]\n",
    "test_y = data[120:150, 4]"
   ]
  },
  {
   "cell_type": "markdown",
   "metadata": {},
   "source": [
    "### O dataset está com manipulação pronta para aplicação em classificadores de inteligência artificial"
   ]
  }
 ],
 "metadata": {
  "kernelspec": {
   "display_name": "Python 3",
   "language": "python",
   "name": "python3"
  },
  "language_info": {
   "codemirror_mode": {
    "name": "ipython",
    "version": 3
   },
   "file_extension": ".py",
   "mimetype": "text/x-python",
   "name": "python",
   "nbconvert_exporter": "python",
   "pygments_lexer": "ipython3",
   "version": "3.7.6"
  }
 },
 "nbformat": 4,
 "nbformat_minor": 4
}
